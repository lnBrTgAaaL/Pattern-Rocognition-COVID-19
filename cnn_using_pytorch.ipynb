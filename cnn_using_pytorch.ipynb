{
 "cells": [
  {
   "cell_type": "markdown",
   "metadata": {
    "colab_type": "text",
    "id": "XX-bbpQZvtSP"
   },
   "source": [
    "## Imports and Read Data"
   ]
  },
  {
   "cell_type": "code",
   "execution_count": 4,
   "metadata": {},
   "outputs": [
    {
     "name": "stdout",
     "output_type": "stream",
     "text": [
      "Requirement already satisfied: numpy in c:\\users\\m-el behery\\anaconda3\\lib\\site-packages (1.18.1)\n",
      "Requirement already satisfied: imutils in c:\\users\\m-el behery\\anaconda3\\lib\\site-packages (0.5.3)\n"
     ]
    }
   ],
   "source": [
    "!pip install numpy\n",
    "!pip install imutils\n",
    "!pip install opencv-python\n",
    "!pip install torch===1.4.0 torchvision===0.5.0 -f https://download.pytorch.org/whl/torch_stable.html"
   ]
  },
  {
   "cell_type": "code",
   "execution_count": 7,
   "metadata": {
    "colab": {},
    "colab_type": "code",
    "id": "hbHJDOZgt0wI"
   },
   "outputs": [],
   "source": [
    "from imutils import paths\n",
    "import matplotlib.pyplot as plt\n",
    "from IPython.display import Image, display\n",
    "import numpy as np\n",
    "import argparse\n",
    "import cv2\n",
    "import os\n",
    "import shutil\n",
    "import pandas as pd\n",
    "import numpy as np\n",
    "from skimage.io import imread\n",
    "import matplotlib.pyplot as plt\n",
    "%matplotlib inline\n",
    "from sklearn.model_selection import train_test_split\n",
    "from sklearn.metrics import accuracy_score\n",
    "from sklearn.preprocessing import LabelBinarizer\n",
    "from sklearn.model_selection import train_test_split\n",
    "from sklearn.metrics import classification_report\n",
    "from sklearn.metrics import confusion_matrix\n",
    "from sklearn.preprocessing import LabelEncoder\n",
    "from tqdm import tqdm\n",
    "import torch\n",
    "from torch.autograd import Variable\n",
    "from torch.nn import Linear, ReLU, CrossEntropyLoss, Sequential, Conv2d, MaxPool2d, Module, Softmax, BatchNorm2d, Dropout\n",
    "from torch.optim import Adam, SGD\n",
    "from torch.utils.data import Dataset, DataLoader\n",
    "from imutils import paths\n",
    "import matplotlib.pyplot as plt\n",
    "import numpy as np\n",
    "import argparse\n",
    "import cv2\n",
    "import os\n",
    "from sklearn.preprocessing import LabelBinarizer\n",
    "from sklearn.model_selection import train_test_split\n",
    "from sklearn.metrics import classification_report\n",
    "from sklearn.metrics import confusion_matrix\n",
    "import torch \n",
    "import torch.nn as nn\n",
    "import torchvision\n",
    "import torchvision.transforms as transforms\n"
   ]
  },
  {
   "cell_type": "markdown",
   "metadata": {
    "colab_type": "text",
    "id": "Io0gJq3lvz-i"
   },
   "source": [
    "## Prepare Data"
   ]
  },
  {
   "cell_type": "code",
   "execution_count": 10,
   "metadata": {
    "colab": {},
    "colab_type": "code",
    "id": "ahB23-5zmlN-"
   },
   "outputs": [],
   "source": [
    "torch.backends.cudnn.enabled = False"
   ]
  },
  {
   "cell_type": "code",
   "execution_count": 11,
   "metadata": {
    "colab": {},
    "colab_type": "code",
    "id": "ZDlzpHauydN5"
   },
   "outputs": [],
   "source": [
    "num_epochs = 30\n",
    "num_classes = 2\n",
    "batch_size = 5\n",
    "learning_rate = 0.001"
   ]
  },
  {
   "cell_type": "code",
   "execution_count": 12,
   "metadata": {
    "colab": {},
    "colab_type": "code",
    "id": "nA-FMHAdvLDU"
   },
   "outputs": [],
   "source": [
    "INIT_LR = 1e-3\n",
    "EPOCHS = 25\n",
    "BS = 8\n",
    "#Paths\n",
    "dataset = \"/content/keras-covid-19/dataset\"\n",
    "dataset_1 = 'data'\n",
    "plot = \"/content/keras-covid-19/plot.png\" \n",
    "model = \"/content/keras-covid-19/covid19.model\""
   ]
  },
  {
   "cell_type": "code",
   "execution_count": 13,
   "metadata": {
    "colab": {},
    "colab_type": "code",
    "id": "-styyNkXvaUE"
   },
   "outputs": [],
   "source": [
    "args={}\n",
    "args[\"dataset\"]=dataset\n",
    "args[\"plot\"]=plot\n",
    "args[\"model\"]=model\n",
    "args[\"dataset_1\"] = dataset_1"
   ]
  },
  {
   "cell_type": "markdown",
   "metadata": {
    "colab_type": "text",
    "id": "XmPxaS8Fs0j5"
   },
   "source": [
    "## Data Updates"
   ]
  },
  {
   "cell_type": "code",
   "execution_count": 16,
   "metadata": {
    "colab": {
     "base_uri": "https://localhost:8080/"
    },
    "colab_type": "code",
    "id": "1w0l5e5UtORB",
    "outputId": "f81710b8-779c-42a1-efbd-eacd9b169ece"
   },
   "outputs": [
    {
     "name": "stdout",
     "output_type": "stream",
     "text": [
      "Number of images in Other: 427 Number of images in Covid: 648\n"
     ]
    }
   ],
   "source": [
    "path, dirs, files2 = os.walk(\"data/other\").__next__()\n",
    "path, dirs, files1 = os.walk(\"data/covid\").__next__()\n",
    "print(\"Number of images in Other: {}\".format(len(files2)),\"Number of images in Covid: {}\".format(len(files1))) "
   ]
  },
  {
   "cell_type": "markdown",
   "metadata": {
    "colab_type": "text",
    "id": "q9j8Z_qss6il"
   },
   "source": [
    "## Load Images"
   ]
  },
  {
   "cell_type": "code",
   "execution_count": 17,
   "metadata": {
    "colab": {
     "base_uri": "https://localhost:8080/"
    },
    "colab_type": "code",
    "id": "9_LEkXfEvREl",
    "outputId": "251d5831-f574-48e4-aa13-117d9e96f4c1"
   },
   "outputs": [
    {
     "name": "stdout",
     "output_type": "stream",
     "text": [
      "[INFO] loading images...\n"
     ]
    }
   ],
   "source": [
    "print(\"[INFO] loading images...\")\n",
    "imagePaths = list(paths.list_images(args[\"dataset_1\"]))\n",
    "data = []\n",
    "labels = []\n",
    "for imagePath in imagePaths:\n",
    "    label = imagePath.split(os.path.sep)[-2]\n",
    "    image = cv2.imread(imagePath)\n",
    "    image = cv2.cvtColor(image, cv2.COLOR_RGB2GRAY)\n",
    "    image = cv2.resize(image, (224, 224))\n",
    "    data.append(image)\n",
    "    labels.append(label)\n",
    "data = np.array(data) / 255.0\n",
    "labels = np.array(labels)"
   ]
  },
  {
   "cell_type": "code",
   "execution_count": 19,
   "metadata": {
    "colab": {},
    "colab_type": "code",
    "id": "V_iUVWLFvU14"
   },
   "outputs": [],
   "source": [
    "lb = LabelEncoder()\n",
    "labels = lb.fit_transform(labels)\n",
    "#labels = to_categorical(labels); print(labels)\n"
   ]
  },
  {
   "cell_type": "code",
   "execution_count": 20,
   "metadata": {
    "colab": {},
    "colab_type": "code",
    "id": "aJLnNXksvd_j"
   },
   "outputs": [],
   "source": [
    "train_y = labels\n",
    "train_x = data"
   ]
  },
  {
   "cell_type": "code",
   "execution_count": 22,
   "metadata": {
    "colab": {
     "base_uri": "https://localhost:8080/"
    },
    "colab_type": "code",
    "id": "dqZTtciwwKDX",
    "outputId": "40f4d8f2-fe9e-437f-c487-d34cfaee7654"
   },
   "outputs": [
    {
     "data": {
      "text/plain": [
       "(((967, 224, 224), (967,)), ((108, 224, 224), (108,)))"
      ]
     },
     "execution_count": 22,
     "metadata": {},
     "output_type": "execute_result"
    }
   ],
   "source": [
    "train_x, val_x, train_y, val_y = train_test_split(train_x, train_y, test_size = 0.1)\n",
    "(train_x.shape, train_y.shape), (val_x.shape, val_y.shape)"
   ]
  },
  {
   "cell_type": "code",
   "execution_count": 24,
   "metadata": {
    "colab": {
     "base_uri": "https://localhost:8080/"
    },
    "colab_type": "code",
    "id": "kwqJAdETwx8Q",
    "outputId": "c8a36869-c517-440d-8c9c-135b870391f0"
   },
   "outputs": [
    {
     "data": {
      "text/plain": [
       "(torch.Size([967, 224, 224]), torch.Size([967]))"
      ]
     },
     "execution_count": 24,
     "metadata": {},
     "output_type": "execute_result"
    }
   ],
   "source": [
    "#train_x = train_x.reshape(45, 2, 224, 224)\n",
    "train_x  = torch.from_numpy(train_x)\n",
    "train_y = train_y.astype(int);\n",
    "train_y = torch.from_numpy(train_y)\n",
    "\n",
    "# shape of training data\n",
    "train_x.shape, train_y.shape"
   ]
  },
  {
   "cell_type": "code",
   "execution_count": 26,
   "metadata": {
    "colab": {},
    "colab_type": "code",
    "id": "v1GX1IxF_qkF"
   },
   "outputs": [],
   "source": [
    "train_x = train_x.reshape(967, 1, 224, 224)\n",
    "val_x = val_x.reshape(108, 1, 224, 224)"
   ]
  },
  {
   "cell_type": "code",
   "execution_count": 29,
   "metadata": {
    "colab": {
     "base_uri": "https://localhost:8080/"
    },
    "colab_type": "code",
    "id": "7spi-YHlxLNx",
    "outputId": "33919a6d-35e0-4e90-c489-21db3d933bf5"
   },
   "outputs": [
    {
     "data": {
      "text/plain": [
       "(torch.Size([108, 1, 224, 224]), torch.Size([108]))"
      ]
     },
     "execution_count": 29,
     "metadata": {},
     "output_type": "execute_result"
    }
   ],
   "source": [
    "val_x  = torch.from_numpy(val_x)\n",
    "val_y = val_y.astype(int);\n",
    "val_y = torch.from_numpy(val_y)\n",
    "val_x.shape, val_y.shape\n"
   ]
  },
  {
   "cell_type": "markdown",
   "metadata": {
    "colab_type": "text",
    "id": "CopoPKluyovw"
   },
   "source": [
    "## CNN Model\n"
   ]
  },
  {
   "cell_type": "code",
   "execution_count": 33,
   "metadata": {
    "colab": {},
    "colab_type": "code",
    "id": "llN-cfYTy_s5"
   },
   "outputs": [],
   "source": [
    "#device = torch.device('cuda:0' if torch.cuda.is_available() else 'cpu')\n",
    "device = torch.device(\"cpu\")"
   ]
  },
  {
   "cell_type": "code",
   "execution_count": 34,
   "metadata": {
    "colab": {},
    "colab_type": "code",
    "id": "S3xJ0glHx8fh"
   },
   "outputs": [],
   "source": [
    "class ConvNet(nn.Module):\n",
    "    def __init__(self, num_classes=2):\n",
    "        super(ConvNet, self).__init__()\n",
    "        self.layer1 = nn.Sequential(\n",
    "            nn.Conv2d(1, 16, kernel_size=5, stride=1, padding=2),\n",
    "            nn.ReLU(),\n",
    "            nn.MaxPool2d(kernel_size=2, stride=2))\n",
    "        self.layer2 = nn.Sequential(\n",
    "            nn.Conv2d(16, 32, kernel_size=5, stride=1, padding=2),\n",
    "            #nn.BatchNorm2d(64),\n",
    "            nn.ReLU(),\n",
    "            nn.MaxPool2d(kernel_size=5, stride=0))\n",
    "        \n",
    "        self.drop_out = nn.Dropout()\n",
    "\n",
    "        self.fc1 = nn.Linear(15488, 1000)\n",
    "        self.fc2 = nn.Linear(1000 ,2)\n",
    "        \n",
    "    def forward(self, x):\n",
    "        x.float()\n",
    "        #x = x.permute(0,3,1,2)\n",
    "        out = self.layer1(x)\n",
    "        out = self.layer2(out)\n",
    "        out = out.reshape(out.size(0), -1)\n",
    "        out = self.drop_out(out)\n",
    "        out = self.fc1(out)\n",
    "        out = self.fc2(out)\n",
    "       \n",
    "        return out"
   ]
  },
  {
   "cell_type": "code",
   "execution_count": 35,
   "metadata": {
    "colab": {
     "base_uri": "https://localhost:8080/",
     "height": 84
    },
    "colab_type": "code",
    "id": "MQ3B4-mrdmK4",
    "outputId": "029247da-4945-41a3-c33d-eb5571a976a0"
   },
   "outputs": [
    {
     "name": "stdout",
     "output_type": "stream",
     "text": [
      "torch.Size([967, 1, 224, 224])\n",
      "torch.Size([108, 1, 224, 224])\n",
      "torch.Size([967])\n",
      "torch.Size([108])\n"
     ]
    }
   ],
   "source": [
    "print(train_x.shape)\n",
    "print(val_x.shape)\n",
    "print(train_y.shape)\n",
    "print(val_y.shape)"
   ]
  },
  {
   "cell_type": "code",
   "execution_count": 37,
   "metadata": {
    "colab": {},
    "colab_type": "code",
    "id": "3YbjNNNMytjh"
   },
   "outputs": [],
   "source": [
    "model = ConvNet(num_classes).to(device,dtype=float)\n"
   ]
  },
  {
   "cell_type": "code",
   "execution_count": 38,
   "metadata": {
    "colab": {},
    "colab_type": "code",
    "id": "T1SrgF4vy89A"
   },
   "outputs": [],
   "source": [
    "criterion = nn.CrossEntropyLoss()\n",
    "optimizer = torch.optim.Adam(model.parameters(), lr=learning_rate)"
   ]
  },
  {
   "cell_type": "code",
   "execution_count": 40,
   "metadata": {
    "colab": {},
    "colab_type": "code",
    "id": "Dg8Fzj2mzIUv"
   },
   "outputs": [],
   "source": [
    "def train(epoch):\n",
    "    model.train()\n",
    "    tr_loss = 0\n",
    "    # getting the training set\n",
    "    x_train, y_train = Variable(train_x), Variable(train_y)\n",
    "    # getting the validation set\n",
    "    x_val, y_val = Variable(val_x), Variable(val_y)\n",
    "    # converting the data into GPU format\n",
    "    \n",
    "    #if torch.cuda.is_available():\n",
    "        #x_train = x_train.cuda()\n",
    "        #y_train = y_train.cuda()\n",
    "        #x_val = x_val.cuda()\n",
    "        #y_val = y_val.cuda()\n",
    "\n",
    "    # clearing the Gradients of the model parameters\n",
    "    optimizer.zero_grad()\n",
    "    \n",
    "    # prediction for training and validation set\n",
    "    output_train = model(x_train)\n",
    "    output_val = model(x_val)\n",
    "\n",
    "    # computing the training and validation loss\n",
    "    loss_train = criterion(output_train, y_train.long())\n",
    "    loss_val = criterion(output_val, y_val.long())\n",
    "    train_losses.append(loss_train.detach())\n",
    "    val_losses.append(loss_val.detach())\n",
    "  \n",
    "\n",
    "    # computing the updated weights of all the model parameters\n",
    "    loss_train.backward()\n",
    "    optimizer.step()\n",
    "    tr_loss = loss_train.item()\n",
    "    #if epoch%2 == 0:\n",
    "        # printing the validation loss\n",
    "    print('Epoch : ',epoch+1, '\\t', 'loss :', loss_val)\n",
    "    #wandb.log({\"epoch\": epoch,\"train_loss\":loss_train , \"val_loss\": loss_val})"
   ]
  },
  {
   "cell_type": "code",
   "execution_count": null,
   "metadata": {
    "colab": {
     "base_uri": "https://localhost:8080/",
     "height": 202
    },
    "colab_type": "code",
    "id": "G160gNaCzix_",
    "outputId": "7615cbe0-8a8a-4474-cb8a-5a1a7ba92fc6",
    "scrolled": false
   },
   "outputs": [
    {
     "name": "stdout",
     "output_type": "stream",
     "text": [
      "Epoch :  1 \t loss : tensor(0.5429, dtype=torch.float64, grad_fn=<NllLossBackward>)\n",
      "Epoch :  2 \t loss : tensor(0.5588, dtype=torch.float64, grad_fn=<NllLossBackward>)\n",
      "Epoch :  3 \t loss : tensor(0.5395, dtype=torch.float64, grad_fn=<NllLossBackward>)\n",
      "Epoch :  4 \t loss : tensor(0.5314, dtype=torch.float64, grad_fn=<NllLossBackward>)\n",
      "Epoch :  5 \t loss : tensor(0.5592, dtype=torch.float64, grad_fn=<NllLossBackward>)\n",
      "Epoch :  6 \t loss : tensor(0.5472, dtype=torch.float64, grad_fn=<NllLossBackward>)\n",
      "Epoch :  7 \t loss : tensor(0.5360, dtype=torch.float64, grad_fn=<NllLossBackward>)\n",
      "Epoch :  8 \t loss : tensor(0.5170, dtype=torch.float64, grad_fn=<NllLossBackward>)\n",
      "Epoch :  9 \t loss : tensor(0.5419, dtype=torch.float64, grad_fn=<NllLossBackward>)\n"
     ]
    }
   ],
   "source": [
    "train_losses = []\n",
    "val_losses = []\n",
    "for epoch in range(num_epochs):\n",
    "    train(epoch)"
   ]
  },
  {
   "cell_type": "code",
   "execution_count": null,
   "metadata": {
    "colab": {
     "base_uri": "https://localhost:8080/",
     "height": 266
    },
    "colab_type": "code",
    "id": "p-lfM5V3aSZJ",
    "outputId": "a9339e39-ea3d-4c73-a86f-e3856dd58149"
   },
   "outputs": [],
   "source": [
    "plt.plot(train_losses, label='Training loss')\n",
    "plt.plot(val_losses, label='Validation loss')\n",
    "plt.legend()\n",
    "plt.show()"
   ]
  },
  {
   "cell_type": "code",
   "execution_count": null,
   "metadata": {
    "colab": {
     "base_uri": "https://localhost:8080/",
     "height": 34
    },
    "colab_type": "code",
    "id": "utMMcN9RnslG",
    "outputId": "b69c446c-4239-4638-847b-a367757c0c06"
   },
   "outputs": [],
   "source": [
    "with torch.no_grad():\n",
    "    output = model(train_x)\n",
    "    \n",
    "softmax = torch.exp(output).cpu()\n",
    "prob = list(softmax.numpy())\n",
    "predictions = np.argmax(prob, axis=1)\n",
    "\n",
    "# accuracy on training set\n",
    "accuracy_score(train_y, predictions)"
   ]
  },
  {
   "cell_type": "code",
   "execution_count": null,
   "metadata": {
    "colab": {
     "base_uri": "https://localhost:8080/",
     "height": 34
    },
    "colab_type": "code",
    "id": "WBiuv3yunzX-",
    "outputId": "9563166d-75f7-429c-b5df-cca53275b70f"
   },
   "outputs": [],
   "source": [
    "with torch.no_grad():\n",
    "    output = model(val_x)\n",
    "\n",
    "softmax = torch.exp(output).cpu()\n",
    "prob = list(softmax.numpy())\n",
    "predictions = np.argmax(prob, axis=1)\n",
    "\n",
    "# accuracy on validation set\n",
    "accuracy_score(val_y, predictions)"
   ]
  }
 ],
 "metadata": {
  "accelerator": "GPU",
  "colab": {
   "collapsed_sections": [
    "XX-bbpQZvtSP"
   ],
   "machine_shape": "hm",
   "name": "cnn using pytorch.ipynb",
   "provenance": []
  },
  "kernelspec": {
   "display_name": "Python 3",
   "language": "python",
   "name": "python3"
  },
  "language_info": {
   "codemirror_mode": {
    "name": "ipython",
    "version": 3
   },
   "file_extension": ".py",
   "mimetype": "text/x-python",
   "name": "python",
   "nbconvert_exporter": "python",
   "pygments_lexer": "ipython3",
   "version": "3.7.6"
  }
 },
 "nbformat": 4,
 "nbformat_minor": 1
}
